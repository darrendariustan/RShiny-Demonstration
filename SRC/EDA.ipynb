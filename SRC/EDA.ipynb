{
 "cells": [
  {
   "cell_type": "markdown",
   "metadata": {},
   "source": [
    "# Exploratory Data Analysis for Road Accidents Dataset"
   ]
  },
  {
   "cell_type": "code",
   "execution_count": null,
   "metadata": {},
   "outputs": [],
   "source": [
    "import pandas as pd"
   ]
  },
  {
   "cell_type": "markdown",
   "metadata": {},
   "source": [
    "## Notes:\n",
    "\n",
    "- Get external weather API and use it as input features to predict future accidents\n",
    "- Use clustering to find out the most dangerous areas\n",
    "- No missing values\n",
    "- Dataset is way too balanced --> Feature engineering to make it less so\n",
    "\n",
    "\n",
    "## Data Cleaning\n",
    "\n",
    "1) Remove rows\n",
    "    - Summer months with weather condition \n",
    "    - Summer month and road condition\n",
    "    > Make sure to keep in mind sommer months in northern vs. southern hemisphere\n",
    "\n",
    "2) Drop columns\n",
    "    - Population density (of the area?!)\n",
    "\n",
    "\n",
    "## EDA ideas / Dashboards:\n",
    "- Chloropleth math with accident density / probability\n",
    "- Time series of accidents\n",
    "- Age group analysis (sort of root cause)\n",
    "- API integration\n",
    "\n",
    "## Thursday\n",
    "\n",
    "- Feature Engineering (Pau)\n",
    "  - per country values to check for less\n",
    "    - Everything per country / capita\n",
    "- Dashboard mockup (Harshi)\n",
    "- Chloropleth map with feature density per country\n",
    "- Timeline of accidents per "
   ]
  }
 ],
 "metadata": {
  "language_info": {
   "name": "python"
  }
 },
 "nbformat": 4,
 "nbformat_minor": 2
}
